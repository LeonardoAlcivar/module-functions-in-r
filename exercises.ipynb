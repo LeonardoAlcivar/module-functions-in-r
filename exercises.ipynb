{
 "cells": [
  {
   "cell_type": "markdown",
   "metadata": {
    "ein.tags": "worksheet-0",
    "slideshow": {
     "slide_type": "-"
    }
   },
   "source": [
    "## Writing Functions\n",
    "\n",
    "The goal of this exercise is to replicate the process from the slides, but with multivariate data. You should think of this as a practise of two things: \n",
    "\n",
    "1. Performing linear algebra in R. This is straight forward, but takes some practise. Especially worth noting how to use vectors and scalars together, as you see how to modify the functions we originally wrote for scalars, such that they work for vectors.\n",
    "\n",
    "2. Writing small functions and testing them. Make sure each part works before trying to combine them into a whole!"
   ]
  },
  {
   "cell_type": "code",
   "execution_count": 1,
   "metadata": {
    "autoscroll": false,
    "ein.hycell": false,
    "ein.tags": "worksheet-0",
    "slideshow": {
     "slide_type": "-"
    }
   },
   "outputs": [
    {
     "name": "stderr",
     "output_type": "stream",
     "text": [
      "Loading tidyverse: ggplot2\n",
      "Loading tidyverse: tibble\n",
      "Loading tidyverse: tidyr\n",
      "Loading tidyverse: readr\n",
      "Loading tidyverse: purrr\n",
      "Loading tidyverse: dplyr\n",
      "Conflicts with tidy packages ---------------------------------------------------\n",
      "filter(): dplyr, stats\n",
      "lag():    dplyr, stats\n"
     ]
    }
   ],
   "source": [
    "library(tidyverse)"
   ]
  },
  {
   "cell_type": "code",
   "execution_count": 2,
   "metadata": {
    "autoscroll": false,
    "ein.hycell": false,
    "ein.tags": "worksheet-0",
    "slideshow": {
     "slide_type": "-"
    }
   },
   "outputs": [],
   "source": [
    "# Write a function that generates data for regressions, \n",
    "\n",
    "# y should be generated according to: \n",
    "# y <- X %*% beta + eps\n",
    "# X should be several columns of independent random normals (aka a multivariate random \n",
    "# normal matrix with diagonal covariance)\n",
    "# eps should be such that:\n",
    "# eps <- rnorm(1, 0, sd)\n",
    "\n",
    "# beta should be a vector\n",
    "# params should be a DATAFRAME/TIBBLE with two columns: \"mean\" and \"sd\" to generate the features (X) \n",
    "# sd should be a scalar: the standard deviation of the normally distributed error term in the DGP\n",
    "\n",
    "# hint: use cbind to bind vectors into the columns of a matrix or the library MASS with the function mvrnorm\n",
    "\n",
    "generate_data <- function(N, beta, params, sd) {\n",
    "      means <- params$mean\n",
    "  sds <- params$sd\n",
    "  x <- rep(1, N)\n",
    "  \n",
    "for (i in 1:length(means)) {\n",
    "    \n",
    "    xi <- rnorm(N, means[i], sds[i]) \n",
    "    x <- cbind(x,xi)\n",
    "  \n",
    "    }\n",
    "       \n",
    "       eps <- rnorm(N, 0, sd)\n",
    "       y <- x%*%beta + eps\n",
    "       list(x = x, y = y)\n",
    "}\n",
    "\n",
    "\n",
    "calc_coef <- function(y,x) {\n",
    "  coef <- solve(t(x)%*%x, t(x)%*%y)\n",
    "    coef\n",
    "}\n",
    "\n",
    "\n",
    "calc_se <- function(y, x, coef) {\n",
    "      \n",
    "      eps <- y - x %*% coef\n",
    "      sigma2 <- (t(eps) %*% eps) / (nrow(x) - ncol(x))\n",
    "      se <- c(sigma2) * solve(t(X) %*% X)\n",
    "    se\n",
    "      \n",
    "}\n",
    "\n",
    "run_regression <- function(y, x) {\n",
    "    coef <- calc_coef(y, x)\n",
    "    se <- calc_se(y, x, coef)\n",
    "    list(coef=coef, se=se)\n",
    "}\n",
    "\n",
    "#Works until here\n",
    "\n",
    "eval_model <- function(coef, se, beta, conf = 1.96) {\n",
    "    up <- coef + se*conf\n",
    "    down <- coef - se*conf\n",
    "    beta > down & beta < up\n",
    "}\n",
    "\n",
    "  simulate <- function(N, beta, sd) {\n",
    "       d <- generate_data(N, beta, sd)\n",
    "       m <- run_regression(d$y, d$x)\n",
    "       eval_model(m$coef, m$se, beta)\n",
    "   }\n",
    "   avg_simulations <- function(M, N, beta, sd) {\n",
    "       inside <- sapply(1:M, function (x) {\n",
    "           simulate(N, beta, sd)\n",
    "})\n",
    "       sum(inside) / M\n",
    "   }"
   ]
  },
  {
   "cell_type": "code",
   "execution_count": 326,
   "metadata": {},
   "outputs": [],
   "source": [
    "# Write other helper functions, as in the slides, and eventually a function \"avg_simulations\" that takes\n",
    "# the same parameters as generate_data, plus an \"M\" parameter that controls how many simulations are run"
   ]
  },
  {
   "cell_type": "markdown",
   "metadata": {},
   "source": [
    "## Tests\n",
    "\n",
    "Make sure the following assertions pass:"
   ]
  },
  {
   "cell_type": "code",
   "execution_count": 4,
   "metadata": {},
   "outputs": [
    {
     "ename": "ERROR",
     "evalue": "Error in avg_simulations(1000, 20, c(1, 2, 1), data.frame(list(mean = c(0, : unused argument (0.5)\n",
     "output_type": "error",
     "traceback": [
      "Error in avg_simulations(1000, 20, c(1, 2, 1), data.frame(list(mean = c(0, : unused argument (0.5)\nTraceback:\n"
     ]
    }
   ],
   "source": [
    "a <- avg_simulations(1000, \n",
    "                20, \n",
    "                c(1,2,1), \n",
    "                data.frame(list(mean=c(0,0,0), sd=c(.2, .5, .3))), \n",
    "                .5)\n",
    "\n",
    "stopifnot(round(a, 1) == .9)"
   ]
  },
  {
   "cell_type": "code",
   "execution_count": null,
   "metadata": {},
   "outputs": [],
   "source": [
    "a <- avg_simulations(1000, \n",
    "                500, \n",
    "                c(1,2,1), \n",
    "                data.frame(list(mean=c(0,0,0), sd=c(.2, .5, .3))), \n",
    "                .5)\n",
    "\n",
    "stopifnot(a > .92)"
   ]
  }
 ],
 "metadata": {
  "kernelspec": {
   "display_name": "R",
   "language": "R",
   "name": "ir"
  },
  "language_info": {
   "codemirror_mode": "r",
   "file_extension": ".r",
   "mimetype": "text/x-r-source",
   "name": "R",
   "pygments_lexer": "r",
   "version": "3.4.1"
  },
  "name": "exercises.ipynb"
 },
 "nbformat": 4,
 "nbformat_minor": 2
}
